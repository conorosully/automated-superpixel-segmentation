{
 "cells": [
  {
   "cell_type": "markdown",
   "metadata": {},
   "source": [
    "# SWED Evaluation \n",
    "Evaluate different segmentation approaches on the SWED test dataset. These include the deterministic superpixel algorithm, pretrained and finetuned U-Net model. The accuracy, precision, recall, F1 and FOM metrics are calculated. "
   ]
  },
  {
   "cell_type": "code",
   "execution_count": null,
   "metadata": {},
   "outputs": [],
   "source": [
    "import matplotlib.pyplot as plt\n",
    "import numpy as np\n",
    "import pandas as pd\n",
    "import os\n",
    "import train\n",
    "import network\n",
    "import torch\n",
    "\n",
    "import glob\n",
    "\n",
    "import importlib\n",
    "import evaluation as eval\n",
    "import utils\n",
    "importlib.reload(utils)\n",
    "importlib.reload(eval)\n",
    "\n",
    "base_path = '../../data/'"
   ]
  },
  {
   "cell_type": "markdown",
   "metadata": {},
   "source": [
    "# SWED"
   ]
  },
  {
   "cell_type": "code",
   "execution_count": null,
   "metadata": {},
   "outputs": [],
   "source": [
    "# Model names\n",
    "swed_original = \"SWED_UNET_12JUL2024.pth\" #Model from previos paper (will not give SOTA results due to different architecture)\n",
    "swed_superpixel = \"SWED_SUPERPIXELS_12JUL2024.pth\" #Pretrained model trained on superpixel output\n",
    "swed_finetune = \"SWED-FINETUNE-26JUL24.pth\" #Fine-tuned model "
   ]
  },
  {
   "cell_type": "code",
   "execution_count": null,
   "metadata": {},
   "outputs": [],
   "source": [
    "# Load LICS data\n",
    "incl_bands = [0,1,2,3,4,5,6,7,8,9,10,11]\n",
    "satellite = 'sentinel'\n",
    "\n",
    "# Test data\n",
    "target_pos = -1\n",
    "\n",
    "test_file = base_path + 'SWED/test/'\n",
    "test_paths = glob.glob(test_file + '*.npy')\n",
    "test_targets = [np.load(file)[:,:,target_pos] for file in test_paths]\n",
    "test_input = [np.load(file)[:,:,incl_bands] for file in test_paths]\n",
    "\n",
    "print(\"Test dimensions:\")\n",
    "print(np.shape(test_targets))\n",
    "print(np.shape(test_input))\n",
    "\n",
    "# Finetune data\n",
    "target_pos = -1\n",
    "\n",
    "finetune_file = base_path + 'SWED/finetune/'\n",
    "finetune_paths = glob.glob(finetune_file + '*.npy')\n",
    "finetune_targets = [np.load(file)[:,:,target_pos] for file in finetune_paths]\n",
    "finetune_input = [np.load(file)[:,:,incl_bands] for file in finetune_paths]\n",
    "\n",
    "print(\"\\nFinetune dimensions:\")\n",
    "print(np.shape(finetune_targets))\n",
    "print(np.shape(finetune_input))"
   ]
  },
  {
   "cell_type": "code",
   "execution_count": null,
   "metadata": {},
   "outputs": [],
   "source": [
    "# Sense check the data\n",
    "\n",
    "# Test data\n",
    "i = np.random.randint(0,len(test_paths))\n",
    "rgb = utils.get_rgb(test_input[i],satellite=satellite,contrast=0.2)\n",
    "target = test_targets[i]\n",
    "\n",
    "fig, ax = plt.subplots(1,2,figsize=(10,5))\n",
    "ax[0].imshow(rgb)\n",
    "ax[1].imshow(target)\n",
    "\n",
    "for a in ax:\n",
    "    a.axis('off')\n",
    "\n",
    "# Finetune data\n",
    "i = np.random.randint(0,len(finetune_paths))\n",
    "rgb = utils.get_rgb(finetune_input[i],satellite=satellite,contrast=0.2)\n",
    "target = finetune_targets[i]\n",
    "\n",
    "fig, ax = plt.subplots(1,2,figsize=(10,5))\n",
    "ax[0].imshow(rgb)\n",
    "ax[1].imshow(target)\n",
    "\n",
    "for a in ax:\n",
    "    a.axis('off')"
   ]
  },
  {
   "cell_type": "markdown",
   "metadata": {},
   "source": [
    "## Superpixel algorithm"
   ]
  },
  {
   "cell_type": "code",
   "execution_count": null,
   "metadata": {},
   "outputs": [],
   "source": [
    "# Ititialize metrics\n",
    "test_metrics = {}\n",
    "finetune_metrics = {}"
   ]
  },
  {
   "cell_type": "code",
   "execution_count": null,
   "metadata": {},
   "outputs": [],
   "source": [
    "def get_sp_predictions(paths,satellite,rgb_bands,index_name,threshold = -1,method='slic', **kwargs):\n",
    "    # Copy the input image to avoid modifying the original\n",
    "    preds = []\n",
    "    for path in paths:\n",
    "        all_bands = np.load(path)\n",
    "        mask = utils.get_mask_from_bands(all_bands, \n",
    "                                         satellite=satellite,\n",
    "                                         rgb_bands=rgb_bands,\n",
    "                                         threshold=threshold, \n",
    "                                         index_name=index_name,\n",
    "                                         method=method, **kwargs)\n",
    "        preds.append(mask)\n",
    "    return preds\n"
   ]
  },
  {
   "cell_type": "code",
   "execution_count": null,
   "metadata": {},
   "outputs": [],
   "source": [
    "# Test\n",
    "preds = get_sp_predictions(test_paths,\n",
    "                           satellite='sentinel',\n",
    "                           rgb_bands=[\"nir\", \"green\", \"blue\"],\n",
    "                           index_name=\"NDWI\",\n",
    "                           threshold=0, \n",
    "                           method='felzenszwalb',\n",
    "                           min_size=60)\n",
    "\n",
    "\n",
    "metrics, arr = eval.eval_metrics(test_targets,preds)\n",
    "test_metrics['superpixels'] = metrics\n",
    "eval.display_metrics(metrics,arr)"
   ]
  },
  {
   "cell_type": "code",
   "execution_count": null,
   "metadata": {},
   "outputs": [],
   "source": [
    "# Finetune\n",
    "preds = get_sp_predictions(finetune_paths,\n",
    "                            satellite='sentinel',\n",
    "                           rgb_bands=[\"nir\", \"green\", \"blue\"],\n",
    "                           index_name=\"NDWI\",\n",
    "                           threshold=0, \n",
    "                           method='felzenszwalb',\n",
    "                           min_size=60)\n",
    "\n",
    "\n",
    "metrics, arr = eval.eval_metrics(finetune_targets,preds)\n",
    "finetune_metrics['superpixels'] = metrics\n",
    "eval.display_metrics(metrics,arr)"
   ]
  },
  {
   "cell_type": "markdown",
   "metadata": {},
   "source": [
    "# Original model"
   ]
  },
  {
   "cell_type": "code",
   "execution_count": null,
   "metadata": {},
   "outputs": [],
   "source": [
    "# Set device\n",
    "device = torch.device('mps')  #UPDATE\n",
    "print(\"Using device: {}\\n\".format(device))\n",
    "\n",
    "model = network.U_Net(12,2).to(device)\n",
    "\n",
    "# Load saved model \n",
    "#model = torch.load('../models/LANDSAT-UNET-20JUL23.pth', map_location=torch.device('cpu') )\n",
    "state_dict = torch.load(f'../../models/{swed_original}', map_location=torch.device('cpu') )\n",
    "model.load_state_dict(state_dict)\n",
    "model.eval()\n",
    "model.to(device)"
   ]
  },
  {
   "cell_type": "code",
   "execution_count": null,
   "metadata": {},
   "outputs": [],
   "source": [
    "from train_unet import * #load dataset and model classes\n",
    "\n",
    "# Set device\n",
    "device = torch.device('mps')  #UPDATE\n",
    "print(\"Using device: {}\\n\".format(device))\n",
    "\n",
    "# Load saved model \n",
    "model = torch.load('../../models/UNET-SCALE-13MAR23.pth', map_location=torch.device('cpu') )\n",
    "model.eval()\n",
    "model.to(device)"
   ]
  },
  {
   "cell_type": "code",
   "execution_count": null,
   "metadata": {},
   "outputs": [],
   "source": [
    "# Test\n",
    "targets, preds = eval.get_preds(model,test_paths,target_pos=-1,incl_bands=incl_bands,satellite=satellite,batch_size=10)\n",
    "print(len(preds))\n",
    "\n",
    "metrics, arr = eval.eval_metrics(test_targets ,preds)\n",
    "test_metrics['original'] = metrics\n",
    "eval.display_metrics(metrics,arr)"
   ]
  },
  {
   "cell_type": "code",
   "execution_count": null,
   "metadata": {},
   "outputs": [],
   "source": [
    "# Finetune\n",
    "targets, preds = eval.get_preds(model,finetune_paths,target_pos=-1,incl_bands=incl_bands,satellite=satellite,batch_size=10)\n",
    "print(len(preds))\n",
    "\n",
    "metrics, arr = eval.eval_metrics(finetune_targets ,preds)\n",
    "finetune_metrics['original'] = metrics\n",
    "eval.display_metrics(metrics,arr)"
   ]
  },
  {
   "cell_type": "markdown",
   "metadata": {},
   "source": [
    "## Rough model"
   ]
  },
  {
   "cell_type": "code",
   "execution_count": null,
   "metadata": {},
   "outputs": [],
   "source": [
    "# Set device\n",
    "device = torch.device('mps')  #UPDATE\n",
    "print(\"Using device: {}\\n\".format(device))\n",
    "\n",
    "model = network.U_Net(12,2).to(device)\n",
    "\n",
    "# Load saved model \n",
    "#model = torch.load('../models/LANDSAT-UNET-20JUL23.pth', map_location=torch.device('cpu') )\n",
    "state_dict = torch.load(f'../../models/{swed_superpixel}', map_location=torch.device('cpu') )\n",
    "model.load_state_dict(state_dict)\n",
    "model.eval()\n",
    "model.to(device)"
   ]
  },
  {
   "cell_type": "code",
   "execution_count": null,
   "metadata": {},
   "outputs": [],
   "source": [
    "# Test\n",
    "targets, preds = eval.get_preds(model,test_paths,target_pos=-1,incl_bands=incl_bands,satellite=satellite,batch_size=10)\n",
    "print(len(preds))\n",
    "\n",
    "metrics, arr = eval.eval_metrics(test_targets ,preds)\n",
    "test_metrics['rough_model'] = metrics\n",
    "eval.display_metrics(metrics,arr)"
   ]
  },
  {
   "cell_type": "code",
   "execution_count": null,
   "metadata": {},
   "outputs": [],
   "source": [
    "# Display some predictions\n",
    "i = np.random.randint(0,len(test_paths))\n",
    "rgb = utils.get_rgb(test_input[i],satellite=satellite,contrast=0.2)\n",
    "target = test_targets[i]\n",
    "pred = preds[i]\n",
    "\n",
    "fig, ax = plt.subplots(1,3,figsize=(15,5))\n",
    "ax[0].imshow(rgb)\n",
    "ax[1].imshow(target)\n",
    "ax[2].imshow(pred)\n",
    "\n",
    "for a in ax:\n",
    "    a.axis('off')"
   ]
  },
  {
   "cell_type": "code",
   "execution_count": null,
   "metadata": {},
   "outputs": [],
   "source": [
    "# Finetune\n",
    "targets, preds = eval.get_preds(model,finetune_paths,target_pos=-1,incl_bands=incl_bands,satellite=satellite,batch_size=10)\n",
    "print(len(preds))\n",
    "\n",
    "metrics, arr = eval.eval_metrics(finetune_targets ,preds)\n",
    "finetune_metrics['rough_model'] = metrics\n",
    "eval.display_metrics(metrics,arr)\n"
   ]
  },
  {
   "cell_type": "markdown",
   "metadata": {},
   "source": [
    "# Finetuned model"
   ]
  },
  {
   "cell_type": "code",
   "execution_count": null,
   "metadata": {},
   "outputs": [],
   "source": [
    "# Set device\n",
    "device = torch.device('mps')  #UPDATE\n",
    "print(\"Using device: {}\\n\".format(device))\n",
    "\n",
    "model = network.U_Net(12,2).to(device)\n",
    "\n",
    "# Load saved model \n",
    "#model = torch.load('../models/LANDSAT-UNET-20JUL23.pth', map_location=torch.device('cpu') )\n",
    "state_dict = torch.load(f'../../models/{swed_finetune}', map_location=torch.device('cpu') )\n",
    "model.load_state_dict(state_dict)\n",
    "model.eval()\n",
    "model.to(device)"
   ]
  },
  {
   "cell_type": "code",
   "execution_count": null,
   "metadata": {},
   "outputs": [],
   "source": [
    "# Test\n",
    "targets, preds = eval.get_preds(model,test_paths,target_pos=-1,incl_bands=incl_bands,satellite=satellite,batch_size=10)\n",
    "print(len(preds))\n",
    "\n",
    "metrics, arr = eval.eval_metrics(test_targets ,preds)\n",
    "test_metrics['finetune_model'] = metrics\n",
    "eval.display_metrics(metrics,arr)"
   ]
  },
  {
   "cell_type": "code",
   "execution_count": null,
   "metadata": {},
   "outputs": [],
   "source": [
    "# Display some predictions\n",
    "i = np.random.randint(0,len(test_paths))\n",
    "rgb = utils.get_rgb(test_input[i],satellite=satellite,contrast=0.2)\n",
    "target = test_targets[i]\n",
    "pred = preds[i]\n",
    "\n",
    "fig, ax = plt.subplots(1,3,figsize=(15,5))\n",
    "ax[0].imshow(rgb)\n",
    "ax[1].imshow(target)\n",
    "ax[2].imshow(pred)\n",
    "\n",
    "for a in ax:\n",
    "    a.axis('off')"
   ]
  },
  {
   "cell_type": "code",
   "execution_count": null,
   "metadata": {},
   "outputs": [],
   "source": [
    "# Finetune\n",
    "targets, preds = eval.get_preds(model,finetune_paths,target_pos=-1,incl_bands=incl_bands,satellite=satellite,batch_size=10)\n",
    "print(len(preds))\n",
    "\n",
    "metrics, arr = eval.eval_metrics(finetune_targets ,preds)\n",
    "finetune_metrics['finetune_model'] = metrics\n",
    "eval.display_metrics(metrics,arr)"
   ]
  },
  {
   "cell_type": "markdown",
   "metadata": {},
   "source": [
    "# Final Metrics Table"
   ]
  },
  {
   "cell_type": "code",
   "execution_count": null,
   "metadata": {},
   "outputs": [],
   "source": [
    " # Test metrics\n",
    "df_test_metrics = pd.DataFrame(test_metrics)\n",
    "\n",
    "df_test_metrics = df_test_metrics[['original','superpixels','rough_model','finetune_model']]\n",
    "df_test_metrics = df_test_metrics.transpose()\n",
    "df_test_metrics = df_test_metrics[['accuracy','precision','recall','f1','fom']]\n",
    "np.round(df_test_metrics,3)"
   ]
  },
  {
   "cell_type": "code",
   "execution_count": null,
   "metadata": {},
   "outputs": [],
   "source": [
    "# Finetune metrics\n",
    "df_finetune_metrics = pd.DataFrame(finetune_metrics)\n",
    "\n",
    "df_finetune_metrics = df_finetune_metrics[['original','superpixels','rough_model','finetune_model']]\n",
    "df_finetune_metrics = df_finetune_metrics.transpose()\n",
    "df_finetune_metrics = df_finetune_metrics[['accuracy','precision','recall','f1','fom']]\n",
    "\n",
    "np.round(df_finetune_metrics,3)"
   ]
  },
  {
   "cell_type": "markdown",
   "metadata": {},
   "source": [
    "# Archive"
   ]
  },
  {
   "cell_type": "code",
   "execution_count": null,
   "metadata": {},
   "outputs": [],
   "source": [
    "for i in range(75):\n",
    "    pred = preds[i]\n",
    "    target = finetune_targets[i]\n",
    "\n",
    "    accuracy = np.sum(pred == target) / np.size(pred)\n",
    "\n",
    "    if accuracy < 0.6:\n",
    "        print(f\"{i}: {accuracy}\")\n",
    "\n",
    "        fig, ax = plt.subplots(1,2,figsize=(10,5))\n",
    "        ax[0].imshow(pred)\n",
    "        ax[1].imshow(target)\n",
    "        "
   ]
  }
 ],
 "metadata": {
  "kernelspec": {
   "display_name": "venv_sp",
   "language": "python",
   "name": "python3"
  },
  "language_info": {
   "codemirror_mode": {
    "name": "ipython",
    "version": 3
   },
   "file_extension": ".py",
   "mimetype": "text/x-python",
   "name": "python",
   "nbconvert_exporter": "python",
   "pygments_lexer": "ipython3",
   "version": "3.9.12"
  }
 },
 "nbformat": 4,
 "nbformat_minor": 2
}
